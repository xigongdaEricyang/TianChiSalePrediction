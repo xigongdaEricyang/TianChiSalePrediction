{
 "cells": [
  {
   "cell_type": "code",
   "execution_count": 1,
   "metadata": {
    "collapsed": true
   },
   "outputs": [],
   "source": [
    "import pandas as pd\n",
    "import numpy as np"
   ]
  },
  {
   "cell_type": "code",
   "execution_count": 2,
   "metadata": {
    "collapsed": true
   },
   "outputs": [],
   "source": [
    "sum_df = pd.read_csv(r'..\\Predict\\predict_result\\20180120\\yancheng_testA_20171225.csv')\n",
    "mean_df = pd.read_csv(r'..\\Predict\\predict_result\\20170119\\predict_sum.csv')"
   ]
  },
  {
   "cell_type": "code",
   "execution_count": 3,
   "metadata": {},
   "outputs": [
    {
     "data": {
      "text/plain": [
       "array([ -1167,   -655,  -2134,  -3702,    -72,   -218,    -35,    -53,\n",
       "         -204,  -1053,    -75,  -4707,   -275,    -95,   -966,   -286,\n",
       "         -690,   -428,   -101,  -2454,  -5409,   -461,  -1534,   -336,\n",
       "         -305,   -818,  -1114,     10,    -27,  -2550,   -698,  -5235,\n",
       "          -61, -11287,   -334,  -2919,   -514,  -2531,  -1487,     24,\n",
       "        -1673,    -40,   -348,   -185,   -211,   -636,  -3097,   -198,\n",
       "         -422,   -491,  -3244,    -25,   -669,      7,  -4119,  -2037,\n",
       "           40,   -187,     15,  -1260,   -576,    -42,   -103,   -301,\n",
       "         -140,   -438,    -47,     80,   -476,   -355,      0,    135,\n",
       "        -1072,   -901,  -1907,   -138,   -744,  -2079,   -482,   -631,\n",
       "         -563,  -1562,  -1670,     13,   -606,   -236,  -4957,   -937,\n",
       "          -79,   -867,    -20,    -65,  -2574,   -412,  -1320,    -59,\n",
       "         -436,   -576,   -264,   -758,    -56,   -459,  -1218,   -126,\n",
       "         -148,  -8969,   -591, -12110,   -712,   -121,  -2259,   -104,\n",
       "          -64,  -1265,    -62,    -97,   -143,   -946,   -161,   -155,\n",
       "         -408,    -34,   -100,  -1156,   -328,     65,  -1044,   -193,\n",
       "        -1597,   -933,  -1402,   -762,    -66,  -1623,   -764,     22,\n",
       "          -96,   -638,   -125,   -537], dtype=int64)"
      ]
     },
     "execution_count": 3,
     "metadata": {},
     "output_type": "execute_result"
    }
   ],
   "source": [
    "(sum_df['predict_quantity'].values - mean_df['predict_quantity'].values)"
   ]
  },
  {
   "cell_type": "code",
   "execution_count": 4,
   "metadata": {},
   "outputs": [
    {
     "data": {
      "text/plain": [
       "2097.1452807498645"
      ]
     },
     "execution_count": 4,
     "metadata": {},
     "output_type": "execute_result"
    }
   ],
   "source": [
    "np.sqrt(np.mean(np.power((sum_df['predict_quantity'].values - mean_df['predict_quantity'].values), 2)))"
   ]
  }
 ],
 "metadata": {
  "kernelspec": {
   "display_name": "Python 3",
   "language": "python",
   "name": "python3"
  },
  "language_info": {
   "codemirror_mode": {
    "name": "ipython",
    "version": 3
   },
   "file_extension": ".py",
   "mimetype": "text/x-python",
   "name": "python",
   "nbconvert_exporter": "python",
   "pygments_lexer": "ipython3",
   "version": "3.5.2"
  }
 },
 "nbformat": 4,
 "nbformat_minor": 2
}
