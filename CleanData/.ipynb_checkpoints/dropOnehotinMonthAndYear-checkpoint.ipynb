{
 "cells": [
  {
   "cell_type": "code",
   "execution_count": 3,
   "metadata": {},
   "outputs": [],
   "source": [
    "import pandas as pd\n",
    "from parse import parse\n",
    "import re"
   ]
  },
  {
   "cell_type": "code",
   "execution_count": 1,
   "metadata": {
    "collapsed": true
   },
   "outputs": [],
   "source": [
    "def dropOneHotMonthAndYear(df, filename):\n",
    "    years, months = [c for c in df.columns.values if re.match('year_', c)], [c for c in df.columns.values if re.match('month_', c)]\n",
    "    year_data = [100*int(parse('year_{}', y)[0]) for y in df[years].idxmax(1).values]\n",
    "    month_data = [int(parse('month_{}', y)[0]) for y in df[months].idxmax(1).values]\n",
    "    df['date'] = np.add(year_data, month_data)\n",
    "    df.drop(years+months+['year', 'month'], axis=1).to_csv(filename, index=False)"
   ]
  },
  {
   "cell_type": "code",
   "execution_count": null,
   "metadata": {
    "collapsed": true
   },
   "outputs": [],
   "source": [
    "dropOneHotMonthAndYear(df, 'datenoOnehot_trainDataAfterClean.csv')"
   ]
  },
  {
   "cell_type": "code",
   "execution_count": 4,
   "metadata": {},
   "outputs": [],
   "source": [
    "df = pd.read_csv('trainDataAfterClean.csv')\n",
    "df_withmax = pd.read_csv('Max_trainDataAfterClean.csv')"
   ]
  },
  {
   "cell_type": "code",
   "execution_count": 59,
   "metadata": {
    "collapsed": true
   },
   "outputs": [],
   "source": [
    "years, months = [c for c in df.columns.values if re.match('year_', c)], [c for c in df.columns.values if re.match('month_', c)]\n"
   ]
  },
  {
   "cell_type": "code",
   "execution_count": 52,
   "metadata": {},
   "outputs": [],
   "source": [
    "year_data = [100*int(parse('year_{}', y)[0]) for y in df[years].idxmax(1).values]\n",
    "month_data = [int(parse('month_{}', y)[0]) for y in df[months].idxmax(1).values]\n",
    "df['date'] = np.add(year_data, month_data)"
   ]
  },
  {
   "cell_type": "code",
   "execution_count": 55,
   "metadata": {},
   "outputs": [],
   "source": [
    "df = df.drop(years+months+['year', 'month'], axis=1)"
   ]
  },
  {
   "cell_type": "code",
   "execution_count": 57,
   "metadata": {},
   "outputs": [],
   "source": [
    "df.to_csv('datenoOnehot_trainDataAfterClean.csv', index=False)"
   ]
  }
 ],
 "metadata": {
  "kernelspec": {
   "display_name": "Python 3",
   "language": "python",
   "name": "python3"
  },
  "language_info": {
   "codemirror_mode": {
    "name": "ipython",
    "version": 3
   },
   "file_extension": ".py",
   "mimetype": "text/x-python",
   "name": "python",
   "nbconvert_exporter": "python",
   "pygments_lexer": "ipython3",
   "version": "3.5.2"
  }
 },
 "nbformat": 4,
 "nbformat_minor": 2
}
