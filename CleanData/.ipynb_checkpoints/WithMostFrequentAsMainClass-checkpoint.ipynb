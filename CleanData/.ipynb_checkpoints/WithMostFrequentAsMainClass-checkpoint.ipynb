{
 "cells": [
  {
   "cell_type": "code",
   "execution_count": 75,
   "metadata": {
    "collapsed": true
   },
   "outputs": [],
   "source": [
    "import pandas as pd\n",
    "from parse import parse\n",
    "import numpy as np"
   ]
  },
  {
   "cell_type": "code",
   "execution_count": 3,
   "metadata": {
    "collapsed": true
   },
   "outputs": [],
   "source": [
    "all_data_df = pd.read_csv('trainDataAfterClean.csv')"
   ]
  },
  {
   "cell_type": "code",
   "execution_count": 85,
   "metadata": {},
   "outputs": [
    {
     "data": {
      "text/plain": [
       "array([ 1278,  1870,  3045,  4465, 12923,  4737,  9184,  8449,  1808,\n",
       "        3920,  1774,  1635,  2540,   395,   955,  2349,  4063, 19715,\n",
       "        2564,  7249,  2148,  4420,  8416,  1514, 13576,   960,  1234,\n",
       "        2360, 18418,  8373, 17590,  1452,  2264, 10180, 10606,  1598,\n",
       "        5003,  1806,  1262, 10291,  1649,  1522,  4762,  4609, 18548,\n",
       "        4973,  1145,  1703,  1221, 11641,  1103,  1653,  5323, 18671,\n",
       "        1532,  1485,  3068,  4437,  3887,   607, 19799,  4999,  1331,\n",
       "       18430, 16972, 11588, 16210,  1163,  2064,  4046,  1594,  1739,\n",
       "       17937,  4254,  5224,  2402, 18284,  1112,     3,  4857,  3310,\n",
       "       10504, 17725,  2660, 11105,  1692,  9277, 17677, 13419,  9007,\n",
       "       11239, 12520,  4189,  4628, 18524,  1997,  4205,  5986,  7233,\n",
       "        1368, 11380,  1233,  2778,  4044, 17764,  8022,  7670,  4504,\n",
       "        4924, 17719,  1818,  4714,  4494, 10746,  7525,  5062,  4944,\n",
       "       19298,  5148,  2385,   981,  1183,  6131,  1330,  4682,  2352,\n",
       "        4687,  1513,  3149,  4680, 16774,  3195,  1155,  4543, 12624,\n",
       "        4327,  4029,  8620,  3854, 17902,  3721,  4047, 10385, 10066,\n",
       "       14987,   897,  5144,  2928,  1457, 18835, 16420,  1373,  4910, 10828], dtype=int64)"
      ]
     },
     "execution_count": 85,
     "metadata": {},
     "output_type": "execute_result"
    }
   ],
   "source": [
    "classid_columns =  [c for c in all_data_df.columns.values if c.find('class_id_') >-1]\n",
    "classidMapMaxNum = [(c, all_data_df[all_data_df[c] == 1].sale_quantity.max()) for c in classid_columns]\n",
    "index_list = np.concatenate([all_data_df[(all_data_df[c] == 1) & (all_data_df.sale_quantity== v)].index.values for c, v in classidMapMaxNum]).ravel()"
   ]
  }
 ],
 "metadata": {
  "kernelspec": {
   "display_name": "Python 3",
   "language": "python",
   "name": "python3"
  },
  "language_info": {
   "codemirror_mode": {
    "name": "ipython",
    "version": 3
   },
   "file_extension": ".py",
   "mimetype": "text/x-python",
   "name": "python",
   "nbconvert_exporter": "python",
   "pygments_lexer": "ipython3",
   "version": "3.5.2"
  }
 },
 "nbformat": 4,
 "nbformat_minor": 2
}
