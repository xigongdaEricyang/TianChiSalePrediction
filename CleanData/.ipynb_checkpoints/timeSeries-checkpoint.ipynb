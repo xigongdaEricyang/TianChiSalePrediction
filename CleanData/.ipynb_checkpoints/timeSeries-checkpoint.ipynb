{
 "cells": [
  {
   "cell_type": "code",
   "execution_count": 1,
   "metadata": {
    "collapsed": true
   },
   "outputs": [],
   "source": [
    "import pandas as pd\n",
    "import numpy as np\n",
    "import matplotlib.pyplot as plt\n",
    "import matplotlib.dates as mdates\n",
    "import matplotlib.cbook as cbook"
   ]
  },
  {
   "cell_type": "code",
   "execution_count": 2,
   "metadata": {},
   "outputs": [
    {
     "name": "stderr",
     "output_type": "stream",
     "text": [
      "c:\\users\\yw59785\\python\\python35\\lib\\site-packages\\IPython\\core\\interactiveshell.py:2698: DtypeWarning: Columns (20) have mixed types. Specify dtype option on import or set low_memory=False.\n",
      "  interactivity=interactivity, compiler=compiler, result=result)\n"
     ]
    }
   ],
   "source": [
    "tmpDf = pd.read_csv('../RawData/'+'[new] yancheng_train_20171226_2.csv')"
   ]
  },
  {
   "cell_type": "code",
   "execution_count": 3,
   "metadata": {
    "collapsed": true
   },
   "outputs": [],
   "source": [
    "df = tmpDf[['sale_date', 'class_id', 'price', 'sale_quantity']]"
   ]
  },
  {
   "cell_type": "code",
   "execution_count": 4,
   "metadata": {
    "collapsed": true
   },
   "outputs": [],
   "source": [
    "# df.sort_values(by=['sale_date', 'class_id', 'sale_quantity'])"
   ]
  },
  {
   "cell_type": "code",
   "execution_count": 5,
   "metadata": {
    "collapsed": true
   },
   "outputs": [],
   "source": [
    "# df.sort_values(by=['class_id', 'sale_date', 'sale_quantity'])"
   ]
  },
  {
   "cell_type": "code",
   "execution_count": 6,
   "metadata": {
    "collapsed": true
   },
   "outputs": [],
   "source": [
    "resultDf = df.groupby(['class_id', 'sale_date']).sum()"
   ]
  },
  {
   "cell_type": "code",
   "execution_count": 7,
   "metadata": {},
   "outputs": [
    {
     "ename": "ImportError",
     "evalue": "No module named 'statsmodels'",
     "output_type": "error",
     "traceback": [
      "\u001b[1;31m---------------------------------------------------------------------------\u001b[0m",
      "\u001b[1;31mImportError\u001b[0m                               Traceback (most recent call last)",
      "\u001b[1;32m<ipython-input-7-026cd54571dc>\u001b[0m in \u001b[0;36m<module>\u001b[1;34m()\u001b[0m\n\u001b[0;32m      1\u001b[0m \u001b[1;31m# -*- coding:utf-8 -*-\u001b[0m\u001b[1;33m\u001b[0m\u001b[1;33m\u001b[0m\u001b[0m\n\u001b[1;32m----> 2\u001b[1;33m \u001b[1;32mfrom\u001b[0m \u001b[0mstatsmodels\u001b[0m\u001b[1;33m.\u001b[0m\u001b[0mtsa\u001b[0m\u001b[1;33m.\u001b[0m\u001b[0mstattools\u001b[0m \u001b[1;32mimport\u001b[0m \u001b[0madfuller\u001b[0m\u001b[1;33m\u001b[0m\u001b[0m\n\u001b[0m\u001b[0;32m      3\u001b[0m \u001b[1;32mimport\u001b[0m \u001b[0mpandas\u001b[0m \u001b[1;32mas\u001b[0m \u001b[0mpd\u001b[0m\u001b[1;33m\u001b[0m\u001b[0m\n\u001b[0;32m      4\u001b[0m \u001b[1;32mimport\u001b[0m \u001b[0mmatplotlib\u001b[0m\u001b[1;33m.\u001b[0m\u001b[0mpyplot\u001b[0m \u001b[1;32mas\u001b[0m \u001b[0mplt\u001b[0m\u001b[1;33m\u001b[0m\u001b[0m\n\u001b[0;32m      5\u001b[0m \u001b[1;32mimport\u001b[0m \u001b[0mnumpy\u001b[0m \u001b[1;32mas\u001b[0m \u001b[0mnp\u001b[0m\u001b[1;33m\u001b[0m\u001b[0m\n",
      "\u001b[1;31mImportError\u001b[0m: No module named 'statsmodels'"
     ]
    }
   ],
   "source": [
    "# -*- coding:utf-8 -*-\n",
    "from statsmodels.tsa.stattools import adfuller\n",
    "import pandas as pd\n",
    "import matplotlib.pyplot as plt\n",
    "import numpy as np\n",
    "from statsmodels.graphics.tsaplots import plot_acf, plot_pacf\n",
    "\n",
    "# 移动平均图\n",
    "def draw_trend(timeSeries, size):\n",
    "    f = plt.figure(facecolor='white')\n",
    "    # 对size个数据进行移动平均\n",
    "    rol_mean = timeSeries.rolling(window=size).mean()\n",
    "    # 对size个数据进行加权移动平均\n",
    "    rol_weighted_mean = pd.ewma(timeSeries, span=size)\n",
    "\n",
    "    timeSeries.plot(color='blue', label='Original')\n",
    "    rolmean.plot(color='red', label='Rolling Mean')\n",
    "    rol_weighted_mean.plot(color='black', label='Weighted Rolling Mean')\n",
    "    plt.legend(loc='best')\n",
    "    plt.title('Rolling Mean')\n",
    "    plt.show()\n",
    "\n",
    "def draw_ts(timeSeries):\n",
    "    f = plt.figure(facecolor='white')\n",
    "    timeSeries.plot(color='blue')\n",
    "    plt.show()\n",
    "\n",
    "'''\n",
    "　　Unit Root Test\n",
    "   The null hypothesis of the Augmented Dickey-Fuller is that there is a unit\n",
    "   root, with the alternative that there is no unit root. That is to say the\n",
    "   bigger the p-value the more reason we assert that there is a unit root\n",
    "'''\n",
    "def testStationarity(ts):\n",
    "    dftest = adfuller(ts)\n",
    "    # 对上述函数求得的值进行语义描述\n",
    "    dfoutput = pd.Series(dftest[0:4], index=['Test Statistic','p-value','#Lags Used','Number of Observations Used'])\n",
    "    for key,value in dftest[4].items():\n",
    "        dfoutput['Critical Value (%s)'%key] = value\n",
    "    return dfoutput\n",
    "\n",
    "# 自相关和偏相关图，默认阶数为31阶\n",
    "def draw_acf_pacf(ts, lags=31):\n",
    "    f = plt.figure(facecolor='white')\n",
    "    ax1 = f.add_subplot(211)\n",
    "    plot_acf(ts, lags=31, ax=ax1)\n",
    "    ax2 = f.add_subplot(212)\n",
    "    plot_pacf(ts, lags=31, ax=ax2)\n",
    "    plt.show()"
   ]
  },
  {
   "cell_type": "code",
   "execution_count": null,
   "metadata": {},
   "outputs": [],
   "source": [
    "years = mdates.YearLocator()   # every year\n",
    "months = mdates.MonthLocator()  # every month\n",
    "yearsFmt = mdates.DateFormatter('%Y')\n",
    "\n",
    "result = {}\n",
    "for index, tmp in resultDf.iterrows():\n",
    "    if index[0] in result:\n",
    "        result[index[0]].append([index[1], tmp['sale_quantity']])\n",
    "    else:\n",
    "        result[index[0]] = [[index[1], tmp['sale_quantity']]]\n",
    "\n",
    "for key, array in result.items():\n",
    "    timeList = []\n",
    "    for value in array:\n",
    "        timeList.append(value[0])\n",
    "    for index1 in range(2012, 2018):\n",
    "        monthEnd = 13\n",
    "        if index1 == 2017:\n",
    "            monthEnd = 11\n",
    "        for index2 in range(1, monthEnd):\n",
    "            checkedTime = 0\n",
    "            if index2 < 10:\n",
    "                checkedTime = int(str(index1) + '0' + str(index2))\n",
    "            else:\n",
    "                checkedTime = int(str(index1) + str(index2))\n",
    "            if checkedTime not in timeList and checkedTime > array[0][0]:\n",
    "                array.append([checkedTime, 0])\n",
    "                \n",
    "def getKey(item):\n",
    "    return item[0]\n",
    "\n",
    "for key, value in result.items():\n",
    "    xArray = []\n",
    "    yArray = []\n",
    "    value = sorted(value, key = getKey)\n",
    "    print(key)\n",
    "    for array in value:\n",
    "        dateStr = str(array[0])\n",
    "        date = pd.datetime(int(dateStr[0:4]), int(dateStr[4:6]), 1)\n",
    "        sale_quantity = array[1]\n",
    "        xArray.append(date)\n",
    "        yArray.append(sale_quantity)\n",
    "    fig, ax = plt.subplots()\n",
    "    ax.plot(np.array(xArray), np.array(yArray))\n",
    "    # format the ticks\n",
    "    ax.xaxis.set_major_locator(years)\n",
    "    ax.xaxis.set_major_formatter(yearsFmt)\n",
    "    ax.xaxis.set_minor_locator(months)\n",
    "\n",
    "    datemin = pd.datetime(2012, 1, 1)\n",
    "    datemax = pd.datetime(2017, 11, 1)\n",
    "    ax.set_xlim(datemin, datemax)\n",
    "\n",
    "    ax.format_xdata = mdates.DateFormatter('%Y-%m')\n",
    "#     ax.format_ydata = price\n",
    "    ax.grid(True)\n",
    "\n",
    "    # rotates and right aligns the x labels, and moves the bottom of the\n",
    "    # axes up to make room for them\n",
    "    fig.autofmt_xdate()\n",
    "\n",
    "    plt.show()"
   ]
  },
  {
   "cell_type": "code",
   "execution_count": null,
   "metadata": {
    "collapsed": true
   },
   "outputs": [],
   "source": [
    "testDf = pd.read_csv('../RawData/'+'yancheng_testA_20171225.csv')\n",
    "for i in testDf['class_id'].unique():\n",
    "    if i not in result:\n",
    "        print('not in result: ', i)"
   ]
  },
  {
   "cell_type": "code",
   "execution_count": null,
   "metadata": {
    "collapsed": true
   },
   "outputs": [],
   "source": [
    "sorted_result = sorted(result.items(), key=lambda x:x[1][1])"
   ]
  },
  {
   "cell_type": "code",
   "execution_count": null,
   "metadata": {},
   "outputs": [],
   "source": [
    "for value in sorted_result:\n",
    "    print(value[0], ': ', len(value[1]))"
   ]
  },
  {
   "cell_type": "code",
   "execution_count": null,
   "metadata": {
    "collapsed": true
   },
   "outputs": [],
   "source": []
  },
  {
   "cell_type": "code",
   "execution_count": null,
   "metadata": {
    "collapsed": true
   },
   "outputs": [],
   "source": []
  },
  {
   "cell_type": "code",
   "execution_count": null,
   "metadata": {},
   "outputs": [],
   "source": [
    "import warnings; warnings.simplefilter('ignore')\n",
    "from statsmodels.tsa.arima_model import ARMA\n",
    "import sys\n",
    "from statsmodels.tsa.stattools import adfuller\n",
    "import pandas as pd\n",
    "import matplotlib.pyplot as plt\n",
    "import numpy as np\n",
    "from statsmodels.graphics.tsaplots import plot_acf, plot_pacf\n",
    "\n",
    "# 移动平均图\n",
    "def draw_trend(timeSeries, size):\n",
    "    f = plt.figure(facecolor='white')\n",
    "    # 对size个数据进行移动平均\n",
    "    rol_mean = timeSeries.rolling(window=size).mean()\n",
    "    # 对size个数据进行加权移动平均\n",
    "    rol_weighted_mean = pd.ewma(timeSeries, span=size)\n",
    "\n",
    "    timeSeries.plot(color='blue', label='Original')\n",
    "    rolmean.plot(color='red', label='Rolling Mean')\n",
    "    rol_weighted_mean.plot(color='black', label='Weighted Rolling Mean')\n",
    "    plt.legend(loc='best')\n",
    "    plt.title('Rolling Mean')\n",
    "    plt.show()\n",
    "\n",
    "def draw_ts(timeSeries):\n",
    "    f = plt.figure(facecolor='white')\n",
    "    timeSeries.plot(color='blue')\n",
    "    plt.show()\n",
    "\n",
    "'''\n",
    "　　Unit Root Test\n",
    "   The null hypothesis of the Augmented Dickey-Fuller is that there is a unit\n",
    "   root, with the alternative that there is no unit root. That is to say the\n",
    "   bigger the p-value the more reason we assert that there is a unit root\n",
    "'''\n",
    "def testStationarity(ts):\n",
    "    dftest = adfuller(ts)\n",
    "    # 对上述函数求得的值进行语义描述\n",
    "    dfoutput = pd.Series(dftest[0:4], index=['Test Statistic','p-value','#Lags Used','Number of Observations Used'])\n",
    "    for key,value in dftest[4].items():\n",
    "        dfoutput['Critical Value (%s)'%key] = value\n",
    "    return dfoutput\n",
    "\n",
    "# 自相关和偏相关图，默认阶数为31阶\n",
    "def draw_acf_pacf(ts, lags=31):\n",
    "    f = plt.figure(facecolor='white')\n",
    "    ax1 = f.add_subplot(211)\n",
    "    plot_acf(ts, lags=lags, ax=ax1)\n",
    "    ax2 = f.add_subplot(212)\n",
    "    plot_pacf(ts, lags=lags, ax=ax2)\n",
    "    plt.show()\n",
    "    \n",
    "def strToDate(dateNum):\n",
    "    dateStr = str(dateNum)\n",
    "    return pd.datetime(int(dateStr[0:4]), int(dateStr[4:6]), 1)\n",
    "def proper_model(data_ts, maxLag):\n",
    "    init_bic = 100000\n",
    "    init_p = 0\n",
    "    init_q = 0\n",
    "    init_properModel = None\n",
    "    for p in np.arange(maxLag):\n",
    "        for q in np.arange(maxLag):\n",
    "            model = ARMA(data_ts, order=(p, q))\n",
    "            try:\n",
    "                results_ARMA = model.fit(disp=-1, method='css')\n",
    "            except:\n",
    "                continue\n",
    "            bic = results_ARMA.bic\n",
    "            if bic < init_bic:\n",
    "                init_p = p\n",
    "                init_q = q\n",
    "                init_properModel = results_ARMA\n",
    "                init_bic = bic\n",
    "    return init_bic, init_p, init_q, init_properModel\n",
    "\n",
    "finalResult = {}\n",
    "\n",
    "for value in sorted_result:\n",
    "    print('CLASS: ', value[0])\n",
    "    tempDf = pd.DataFrame(value[1], columns = ['date', 'sale_quantity'])\n",
    "    tempDf['date'] = tempDf['date'].apply(strToDate)\n",
    "    tempDf = tempDf.set_index('date')\n",
    "    tempDf = tempDf['sale_quantity']\n",
    "    tempDf.sort_index(inplace=True)\n",
    "    tempDf[datetime(2017, 11, 1)] = tempDf[datetime(2017, 10, 1)]\n",
    "\n",
    "    # 差分\n",
    "    ts_diff_1 = tempDf.diff(1)\n",
    "    ts_diff_1.dropna(inplace=True)\n",
    "    sizeData = len(ts_diff_1)\n",
    "    draw_ts(ts_diff_1)\n",
    "    draw_acf_pacf(ts_diff_1, lags=sizeData/2-1)\n",
    "    pValue = (adfuller(ts_diff_1))[1]\n",
    "    print('pvalue: ', pValue)\n",
    "\n",
    "    # model\n",
    "    _, _, _, result_arma = proper_model(ts_diff_1, 10)\n",
    "    predict_ts = result_arma.predict(end=datetime(2017, 11, 1))\n",
    "    # 一阶差分还原\n",
    "    shift_ts = tempDf.shift(1)\n",
    "    diff_recover_1 = predict_ts.add(shift_ts)\n",
    "    tempSeries = tempDf[diff_recover_1.index]\n",
    "    plt.figure(facecolor='white')\n",
    "    diff_recover_1.plot(color='blue', label='Predict')\n",
    "    tempDf.plot(color='red', label='Original')\n",
    "    plt.legend(loc='best')\n",
    "    plt.title('RMSE: %.4f'% np.sqrt(sum(((diff_recover_1-tempSeries).dropna())**2)/tempSeries.size))\n",
    "    plt.show()\n",
    "\n",
    "    finalResult[value[0]] = diff_recover_1[datetime(2017, 11, 1)]\n"
   ]
  },
  {
   "cell_type": "code",
   "execution_count": null,
   "metadata": {},
   "outputs": [],
   "source": [
    "# 自相关和偏相关图，默认阶数为31阶\n",
    "def draw_acf_pacf(ts, lags=31):\n",
    "    f = plt.figure(facecolor='white')\n",
    "    ax1 = f.add_subplot(211)\n",
    "    plot_acf(ts, lags=lags, ax=ax1)\n",
    "    ax2 = f.add_subplot(212)\n",
    "    plot_pacf(ts, lags=lags, ax=ax2)\n",
    "    plt.show()\n",
    "for value in sorted_result[80:]:\n",
    "    print('CLASS: ', value[0])\n",
    "    tempDf = pd.DataFrame(value[1], columns = ['date', 'sale_quantity'])\n",
    "    tempDf['date'] = tempDf['date'].apply(strToDate)\n",
    "    tempDf = tempDf.set_index('date')\n",
    "    tempDf = tempDf['sale_quantity']\n",
    "    tempDf.sort_index(inplace=True)\n",
    "    tempDf[datetime(2017, 11, 1)] = tempDf[datetime(2017, 10, 1)]\n",
    "\n",
    "    # 差分\n",
    "    ts_diff_1 = tempDf.diff(1)\n",
    "    ts_diff_1.dropna(inplace=True)\n",
    "    sizeData = len(ts_diff_1)\n",
    "    draw_ts(ts_diff_1)\n",
    "    draw_acf_pacf(ts=ts_diff_1, lags=sizeData/2-1)\n",
    "    pValue = (adfuller(ts_diff_1))[1]\n",
    "    print('pvalue: ', pValue)\n",
    "\n",
    "    # model\n",
    "    _, _, _, result_arma = proper_model(ts_diff_1, 10)\n",
    "    predict_ts = result_arma.predict(end=datetime(2017, 11, 1))\n",
    "    # 一阶差分还原\n",
    "    shift_ts = tempDf.shift(1)\n",
    "    diff_recover_1 = predict_ts.add(shift_ts)\n",
    "    tempSeries = tempDf[diff_recover_1.index]\n",
    "    plt.figure(facecolor='white')\n",
    "    diff_recover_1.plot(color='blue', label='Predict')\n",
    "    tempDf.plot(color='red', label='Original')\n",
    "    plt.legend(loc='best')\n",
    "    plt.title('RMSE: %.4f'% np.sqrt(sum(((diff_recover_1-tempSeries).dropna())**2)/tempSeries.size))\n",
    "    plt.show()\n",
    "\n",
    "    finalResult[value[0]] = diff_recover_1[datetime(2017, 11, 1)]\n"
   ]
  },
  {
   "cell_type": "code",
   "execution_count": null,
   "metadata": {},
   "outputs": [],
   "source": [
    "for value in sorted_result[100:]:\n",
    "    print('CLASS: ', value[0])\n",
    "    tempDf = pd.DataFrame(value[1], columns = ['date', 'sale_quantity'])\n",
    "    tempDf['date'] = tempDf['date'].apply(strToDate)\n",
    "    tempDf = tempDf.set_index('date')\n",
    "    tempDf = tempDf['sale_quantity']\n",
    "    tempDf.sort_index(inplace=True)\n",
    "    tempDf[datetime(2017, 11, 1)] = tempDf[datetime(2017, 10, 1)]\n",
    "\n",
    "    # 差分\n",
    "    ts_diff_1 = tempDf.diff(1)\n",
    "    ts_diff_1.dropna(inplace=True)\n",
    "    sizeData = len(ts_diff_1)\n",
    "    draw_ts(ts_diff_1)\n",
    "    draw_acf_pacf(ts=ts_diff_1, lags=sizeData/2-1)\n",
    "    pValue = (adfuller(ts_diff_1))[1]\n",
    "    print('pvalue: ', pValue)\n",
    "\n",
    "    # model\n",
    "    _, _, _, result_arma = proper_model(ts_diff_1, 3)\n",
    "    predict_ts = result_arma.predict(end=datetime(2017, 11, 1))\n",
    "    # 一阶差分还原\n",
    "    shift_ts = tempDf.shift(1)\n",
    "    diff_recover_1 = predict_ts.add(shift_ts)\n",
    "    tempSeries = tempDf[diff_recover_1.index]\n",
    "    plt.figure(facecolor='white')\n",
    "    diff_recover_1.plot(color='blue', label='Predict')\n",
    "    tempDf.plot(color='red', label='Original')\n",
    "    plt.legend(loc='best')\n",
    "    plt.title('RMSE: %.4f'% np.sqrt(sum(((diff_recover_1-tempSeries).dropna())**2)/tempSeries.size))\n",
    "    plt.show()\n",
    "\n",
    "    finalResult[value[0]] = diff_recover_1[datetime(2017, 11, 1)]"
   ]
  },
  {
   "cell_type": "code",
   "execution_count": null,
   "metadata": {},
   "outputs": [],
   "source": [
    "for value in sorted_result[122:]:\n",
    "    print(value[0], ': ', len(value[1]))"
   ]
  },
  {
   "cell_type": "code",
   "execution_count": null,
   "metadata": {
    "collapsed": true
   },
   "outputs": [],
   "source": [
    "lessCountClass = {789290:92, 437063:92, 854548:120, 861459: 422, 714150:289, 169673: 179, 842246: 322,\n",
    "                687270: 776, 417803: 0, 612523: 97, 905061: 372, 340175: 145, 872180: 444, 725137: 198,\n",
    "                359378: 21, 376193: 148, 653436: 244, 194201: 535}\n",
    "\n",
    "lessCountDf = pd.Series(lessCountClass)\n",
    "lessCountDf.index.name = 'class_id'\n",
    "lessCountDf = lessCountDf.reset_index()\n",
    "df = pd.Series(finalResult)\n",
    "df.index.name = 'class_id'\n",
    "df = df.reset_index()\n",
    "\n",
    "resultDf = pd.concat([df, lessCountDf], ignore_index=True)\n",
    "testDf = pd.read_csv('../RawData/yancheng_testA_20171225.csv')\n",
    "resultDf = pd.merge(testDf, resultDf, on='class_id')\n",
    "resultDf['predict_quantity'] = resultDf[0]\n",
    "resultDf = resultDf.drop([0], axis=1)\n",
    "resultDf['predict_quantity'] = round(resultDf['predict_quantity'])"
   ]
  },
  {
   "cell_type": "code",
   "execution_count": null,
   "metadata": {
    "collapsed": true
   },
   "outputs": [],
   "source": [
    "resultDf.to_csv('../Predict/predict_result/20180130/yancheng_testA_20171225.csv', index=False)"
   ]
  },
  {
   "cell_type": "code",
   "execution_count": null,
   "metadata": {},
   "outputs": [],
   "source": [
    "resultDf"
   ]
  },
  {
   "cell_type": "code",
   "execution_count": null,
   "metadata": {},
   "outputs": [],
   "source": []
  },
  {
   "cell_type": "code",
   "execution_count": null,
   "metadata": {},
   "outputs": [],
   "source": [
    "finalResult"
   ]
  },
  {
   "cell_type": "code",
   "execution_count": null,
   "metadata": {
    "collapsed": true
   },
   "outputs": [],
   "source": [
    "# # 差分操作\n",
    "# def diff_ts(ts, d):\n",
    "#     global shift_ts_list\n",
    "#     #  动态预测第二日的值时所需要的差分序列\n",
    "#     global last_data_shift_list\n",
    "#     shift_ts_list = []\n",
    "#     last_data_shift_list = []\n",
    "#     tmp_ts = ts\n",
    "#     for i in d:\n",
    "#         last_data_shift_list.append(tmp_ts[-i])\n",
    "#         print last_data_shift_list\n",
    "#         shift_ts = tmp_ts.shift(i)\n",
    "#         shift_ts_list.append(shift_ts)\n",
    "#         tmp_ts = tmp_ts - shift_ts\n",
    "#     tmp_ts.dropna(inplace=True)\n",
    "#     return tmp_ts\n",
    "\n",
    "# # 还原操作\n",
    "# def predict_diff_recover(predict_value, d):\n",
    "#     if isinstance(predict_value, float):\n",
    "#         tmp_data = predict_value\n",
    "#         for i in range(len(d)):\n",
    "#             tmp_data = tmp_data + last_data_shift_list[-i-1]\n",
    "#     elif isinstance(predict_value, np.ndarray):\n",
    "#         tmp_data = predict_value[0]\n",
    "#         for i in range(len(d)):\n",
    "#             tmp_data = tmp_data + last_data_shift_list[-i-1]\n",
    "#     else:\n",
    "#         tmp_data = predict_value\n",
    "#         for i in range(len(d)):\n",
    "#             try:\n",
    "#                 tmp_data = tmp_data.add(shift_ts_list[-i-1])\n",
    "#             except:\n",
    "#                 raise ValueError('What you input is not pd.Series type!')\n",
    "#         tmp_data.dropna(inplace=True)\n",
    "#     return tmp_data"
   ]
  },
  {
   "cell_type": "code",
   "execution_count": null,
   "metadata": {
    "collapsed": true
   },
   "outputs": [],
   "source": []
  },
  {
   "cell_type": "code",
   "execution_count": null,
   "metadata": {
    "collapsed": true
   },
   "outputs": [],
   "source": []
  },
  {
   "cell_type": "code",
   "execution_count": null,
   "metadata": {
    "collapsed": true
   },
   "outputs": [],
   "source": []
  },
  {
   "cell_type": "code",
   "execution_count": null,
   "metadata": {
    "collapsed": true
   },
   "outputs": [],
   "source": []
  },
  {
   "cell_type": "code",
   "execution_count": null,
   "metadata": {
    "collapsed": true
   },
   "outputs": [],
   "source": []
  }
 ],
 "metadata": {
  "kernelspec": {
   "display_name": "Python 3",
   "language": "python",
   "name": "python3"
  },
  "language_info": {
   "codemirror_mode": {
    "name": "ipython",
    "version": 3
   },
   "file_extension": ".py",
   "mimetype": "text/x-python",
   "name": "python",
   "nbconvert_exporter": "python",
   "pygments_lexer": "ipython3",
   "version": "3.5.2"
  }
 },
 "nbformat": 4,
 "nbformat_minor": 2
}
