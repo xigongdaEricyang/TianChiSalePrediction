{
 "cells": [
  {
   "cell_type": "code",
   "execution_count": 1,
   "metadata": {
    "collapsed": true
   },
   "outputs": [],
   "source": [
    "import pandas as pd"
   ]
  },
  {
   "cell_type": "code",
   "execution_count": 20,
   "metadata": {
    "collapsed": true
   },
   "outputs": [],
   "source": [
    "cur_result_df = pd.read_csv('../Predict/predict_result/20180130/yancheng_testA_20171225.csv')\n",
    "train_len_df = pd.read_csv('trainlen.csv')\n",
    "types_df = pd.read_csv(r'C:\\Users\\YW59785\\Desktop\\tianchi\\model2\\dict.csv', names=['class_id', 'types', 'type_d'])"
   ]
  },
  {
   "cell_type": "code",
   "execution_count": 65,
   "metadata": {},
   "outputs": [
    {
     "name": "stderr",
     "output_type": "stream",
     "text": [
      "c:\\users\\yw59785\\python\\python35\\lib\\site-packages\\IPython\\core\\interactiveshell.py:2698: DtypeWarning: Columns (20) have mixed types. Specify dtype option on import or set low_memory=False.\n",
      "  interactivity=interactivity, compiler=compiler, result=result)\n"
     ]
    }
   ],
   "source": [
    "raw_df = pd.read_csv('../RawData/[new] yancheng_train_20171226_2.csv')[['sale_quantity', 'class_id', 'sale_date']]\n",
    "tmp_df = raw_df.groupby(['sale_date', 'class_id'], as_index=False).sum()\n",
    "# tmp_df\n",
    "tmp_df = tmp_df[tmp_df.sale_date == 201710]"
   ]
  },
  {
   "cell_type": "code",
   "execution_count": 78,
   "metadata": {
    "collapsed": true
   },
   "outputs": [],
   "source": [
    "sum_prediction_df_20170116 = pd.read_csv('../Predict/predict_result/20170116/yancheng_testA_20171225.csv')"
   ]
  },
  {
   "cell_type": "code",
   "execution_count": 69,
   "metadata": {},
   "outputs": [],
   "source": [
    "combine_df = cur_result_df.merge(train_len_df, how='left', on='class_id').merge(types_df, how='left', on='class_id').merge(tmp_df, how='left', on='class_id').drop(['type_d', 'sale_date'], axis=1)"
   ]
  },
  {
   "cell_type": "code",
   "execution_count": 75,
   "metadata": {},
   "outputs": [],
   "source": [
    "combine_df = combine_df.rename(columns={\"sale_quantity\":\"m10_sale_quantity\"})"
   ]
  },
  {
   "cell_type": "code",
   "execution_count": 120,
   "metadata": {},
   "outputs": [
    {
     "data": {
      "text/html": [
       "<div>\n",
       "<style>\n",
       "    .dataframe thead tr:only-child th {\n",
       "        text-align: right;\n",
       "    }\n",
       "\n",
       "    .dataframe thead th {\n",
       "        text-align: left;\n",
       "    }\n",
       "\n",
       "    .dataframe tbody tr th {\n",
       "        vertical-align: top;\n",
       "    }\n",
       "</style>\n",
       "<table border=\"1\" class=\"dataframe\">\n",
       "  <thead>\n",
       "    <tr style=\"text-align: right;\">\n",
       "      <th></th>\n",
       "      <th>predict_date_x</th>\n",
       "      <th>class_id</th>\n",
       "      <th>predict_quantity_x</th>\n",
       "      <th>trainlen</th>\n",
       "      <th>types</th>\n",
       "      <th>m10_sale_quantity</th>\n",
       "      <th>sum_predict_quantity</th>\n",
       "    </tr>\n",
       "  </thead>\n",
       "  <tbody>\n",
       "    <tr>\n",
       "      <th>0</th>\n",
       "      <td>201711</td>\n",
       "      <td>169673</td>\n",
       "      <td>151.0</td>\n",
       "      <td>5</td>\n",
       "      <td>1</td>\n",
       "      <td>152</td>\n",
       "      <td>151</td>\n",
       "    </tr>\n",
       "    <tr>\n",
       "      <th>1</th>\n",
       "      <td>201711</td>\n",
       "      <td>186250</td>\n",
       "      <td>355.0</td>\n",
       "      <td>21</td>\n",
       "      <td>1</td>\n",
       "      <td>83</td>\n",
       "      <td>355</td>\n",
       "    </tr>\n",
       "    <tr>\n",
       "      <th>2</th>\n",
       "      <td>201711</td>\n",
       "      <td>194201</td>\n",
       "      <td>922.0</td>\n",
       "      <td>2</td>\n",
       "      <td>1</td>\n",
       "      <td>378</td>\n",
       "      <td>922</td>\n",
       "    </tr>\n",
       "    <tr>\n",
       "      <th>3</th>\n",
       "      <td>201711</td>\n",
       "      <td>359378</td>\n",
       "      <td>151.0</td>\n",
       "      <td>2</td>\n",
       "      <td>1</td>\n",
       "      <td>64</td>\n",
       "      <td>151</td>\n",
       "    </tr>\n",
       "    <tr>\n",
       "      <th>4</th>\n",
       "      <td>201711</td>\n",
       "      <td>376193</td>\n",
       "      <td>244.0</td>\n",
       "      <td>2</td>\n",
       "      <td>1</td>\n",
       "      <td>90</td>\n",
       "      <td>244</td>\n",
       "    </tr>\n",
       "    <tr>\n",
       "      <th>5</th>\n",
       "      <td>201711</td>\n",
       "      <td>653436</td>\n",
       "      <td>423.0</td>\n",
       "      <td>2</td>\n",
       "      <td>1</td>\n",
       "      <td>171</td>\n",
       "      <td>423</td>\n",
       "    </tr>\n",
       "    <tr>\n",
       "      <th>6</th>\n",
       "      <td>201711</td>\n",
       "      <td>842246</td>\n",
       "      <td>322.0</td>\n",
       "      <td>5</td>\n",
       "      <td>1</td>\n",
       "      <td>121</td>\n",
       "      <td>322</td>\n",
       "    </tr>\n",
       "    <tr>\n",
       "      <th>7</th>\n",
       "      <td>201711</td>\n",
       "      <td>948936</td>\n",
       "      <td>162.0</td>\n",
       "      <td>13</td>\n",
       "      <td>1</td>\n",
       "      <td>75</td>\n",
       "      <td>162</td>\n",
       "    </tr>\n",
       "  </tbody>\n",
       "</table>\n",
       "</div>"
      ],
      "text/plain": [
       "   predict_date_x  class_id  predict_quantity_x  trainlen  types  \\\n",
       "0          201711    169673               151.0         5      1   \n",
       "1          201711    186250               355.0        21      1   \n",
       "2          201711    194201               922.0         2      1   \n",
       "3          201711    359378               151.0         2      1   \n",
       "4          201711    376193               244.0         2      1   \n",
       "5          201711    653436               423.0         2      1   \n",
       "6          201711    842246               322.0         5      1   \n",
       "7          201711    948936               162.0        13      1   \n",
       "\n",
       "   m10_sale_quantity  sum_predict_quantity  \n",
       "0                152                   151  \n",
       "1                 83                   355  \n",
       "2                378                   922  \n",
       "3                 64                   151  \n",
       "4                 90                   244  \n",
       "5                171                   423  \n",
       "6                121                   322  \n",
       "7                 75                   162  "
      ]
     },
     "execution_count": 120,
     "metadata": {},
     "output_type": "execute_result"
    }
   ],
   "source": [
    "_combine_df = combine_df[combine_df.types == 1].merge(sum_prediction_df_20170116, how='left', on='class_id')\n",
    "_combine_df = _combine_df.drop(['predict_date_y'], axis=1)\n",
    "_combine_df = _combine_df.rename(columns={'predict_quantity_y': 'sum_predict_quantity'})\n",
    "_combine_df"
   ]
  },
  {
   "cell_type": "code",
   "execution_count": 121,
   "metadata": {
    "collapsed": true
   },
   "outputs": [],
   "source": [
    "combine_df.loc[combine_df.types == 1, 'predict_quantity'] = [151, 355, 922, 151, 244, 423, 322, 162]"
   ]
  },
  {
   "cell_type": "code",
   "execution_count": null,
   "metadata": {
    "collapsed": true
   },
   "outputs": [],
   "source": [
    "# combine_df.drop(['trainlen', 'types', 'm10_sale_quantity'], axis=1).to_csv('correlation_prediction.csv', index=False)"
   ]
  }
 ],
 "metadata": {
  "kernelspec": {
   "display_name": "Python 3",
   "language": "python",
   "name": "python3"
  },
  "language_info": {
   "codemirror_mode": {
    "name": "ipython",
    "version": 3
   },
   "file_extension": ".py",
   "mimetype": "text/x-python",
   "name": "python",
   "nbconvert_exporter": "python",
   "pygments_lexer": "ipython3",
   "version": "3.5.2"
  }
 },
 "nbformat": 4,
 "nbformat_minor": 2
}
